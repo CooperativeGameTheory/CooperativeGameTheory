{
 "cells": [
  {
   "cell_type": "code",
   "execution_count": 1,
   "metadata": {},
   "outputs": [],
   "source": [
    "from environments import Environment\n",
    "env = Environment()\n",
    "env.place_agents()"
   ]
  },
  {
   "cell_type": "code",
   "execution_count": 3,
   "metadata": {},
   "outputs": [
    {
     "data": {
      "text/plain": [
       "array([[None, <environments.Agent object at 0x11261ab38>,\n",
       "        <environments.Agent object at 0x112644dd8>, ..., None,\n",
       "        <environments.Agent object at 0x1126229e8>,\n",
       "        <environments.Agent object at 0x11261e4a8>],\n",
       "       [None, None, None, ..., None,\n",
       "        <environments.Agent object at 0x11264b438>, None],\n",
       "       [<environments.Agent object at 0x112611e80>, None, None, ...,\n",
       "        <environments.Agent object at 0x1126324e0>,\n",
       "        <environments.Agent object at 0x112622d68>, None],\n",
       "       ..., \n",
       "       [None, <environments.Agent object at 0x112644c18>, None, ..., None,\n",
       "        <environments.Agent object at 0x11261e630>,\n",
       "        <environments.Agent object at 0x1124ba2b0>],\n",
       "       [<environments.Agent object at 0x10b155fd0>, None,\n",
       "        <environments.Agent object at 0x1126446d8>, ...,\n",
       "        <environments.Agent object at 0x11264b2e8>,\n",
       "        <environments.Agent object at 0x11263b3c8>, None],\n",
       "       [None, <environments.Agent object at 0x1126159b0>, None, ...,\n",
       "        <environments.Agent object at 0x11263f780>, None,\n",
       "        <environments.Agent object at 0x11264f3c8>]], dtype=object)"
      ]
     },
     "execution_count": 3,
     "metadata": {},
     "output_type": "execute_result"
    }
   ],
   "source": []
  },
  {
   "cell_type": "code",
   "execution_count": null,
   "metadata": {},
   "outputs": [],
   "source": []
  },
  {
   "cell_type": "code",
   "execution_count": null,
   "metadata": {
    "collapsed": true
   },
   "outputs": [],
   "source": []
  }
 ],
 "metadata": {
  "kernelspec": {
   "display_name": "Python 3",
   "language": "python",
   "name": "python3"
  },
  "language_info": {
   "codemirror_mode": {
    "name": "ipython",
    "version": 3
   },
   "file_extension": ".py",
   "mimetype": "text/x-python",
   "name": "python",
   "nbconvert_exporter": "python",
   "pygments_lexer": "ipython3",
   "version": "3.6.1"
  }
 },
 "nbformat": 4,
 "nbformat_minor": 2
}
